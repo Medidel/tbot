{
 "cells": [
  {
   "cell_type": "code",
   "execution_count": 3,
   "id": "9ce33f80",
   "metadata": {},
   "outputs": [],
   "source": [
    "import telebot\n"
   ]
  },
  {
   "cell_type": "code",
   "execution_count": 4,
   "id": "5f89944b",
   "metadata": {},
   "outputs": [],
   "source": [
    "bot = telebot.TeleBot(\"TOKEN\", parse_mode=None) "
   ]
  },
  {
   "cell_type": "code",
   "execution_count": 5,
   "id": "02c52a8a",
   "metadata": {},
   "outputs": [],
   "source": [
    "@bot.message_handler(commands=['start', 'help'])\n",
    "def send_welcome(message):\n",
    "\tbot.reply_to(message, \"Howdy, how are you doing?\")"
   ]
  },
  {
   "cell_type": "code",
   "execution_count": null,
   "id": "70887f10",
   "metadata": {},
   "outputs": [],
   "source": []
  }
 ],
 "metadata": {
  "kernelspec": {
   "display_name": "Python 3 (ipykernel)",
   "language": "python",
   "name": "python3"
  },
  "language_info": {
   "codemirror_mode": {
    "name": "ipython",
    "version": 3
   },
   "file_extension": ".py",
   "mimetype": "text/x-python",
   "name": "python",
   "nbconvert_exporter": "python",
   "pygments_lexer": "ipython3",
   "version": "3.10.9"
  }
 },
 "nbformat": 4,
 "nbformat_minor": 5
}
